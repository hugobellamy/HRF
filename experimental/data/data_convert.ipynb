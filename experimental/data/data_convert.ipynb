{
 "cells": [
  {
   "cell_type": "code",
   "execution_count": 2,
   "metadata": {},
   "outputs": [],
   "source": [
    "from rdkit import Chem\n",
    "from rdkit.Chem import AllChem\n",
    "from rdkit.Chem import DataStructs\n",
    "import numpy as np\n",
    "import pandas as pd\n",
    "import matplotlib.pyplot as plt\n",
    "import os"
   ]
  },
  {
   "cell_type": "code",
   "execution_count": 29,
   "metadata": {},
   "outputs": [],
   "source": [
    "# using rdkit convert smiles to fingerprint \n",
    "def fingerprints_from_smiles(smiles, radius=2, nbits=1024):\n",
    "    all_fingerprints = []\n",
    "    all_indexes = []\n",
    "    fails = []\n",
    "\n",
    "\n",
    "    for molecule in smiles.index:\n",
    "        try:\n",
    "            mol_smile = smiles[molecule]\n",
    "            mol = Chem.MolFromSmiles(mol_smile)\n",
    "            fp = np.array(AllChem.GetMorganFingerprintAsBitVect(mol,radius=radius, nBits=nbits))\n",
    "            all_fingerprints.append(fp)\n",
    "            all_indexes.append(molecule)\n",
    "        except:\n",
    "            fails.append(smiles[molecule])\n",
    "            print(molecule)\n",
    "\n",
    "\n",
    "    col_name = [f'Bit_{i}' for i in range(nbits)]\n",
    "    col_bits = [list(l) for l in all_fingerprints]\n",
    "    fingerprints = pd.DataFrame(col_bits, columns=col_name, index=all_indexes)\n",
    "    return fingerprints, fails"
   ]
  },
  {
   "cell_type": "code",
   "execution_count": 30,
   "metadata": {},
   "outputs": [],
   "source": [
    "def split_and_save(dataframe, section_n, name):\n",
    "    shuffled_data = dataframe.sample(frac=1)\n",
    "\n",
    "    # get fingerprints for smiles\n",
    "\n",
    "    sections = np.array_split(shuffled_data, section_n)\n",
    "\n",
    "    for XX,section in enumerate(sections):\n",
    "        if XX % 25 == 0:\n",
    "            print('section', XX)\n",
    "        fingerprints, fails = fingerprints_from_smiles(section['PUBCHEM_EXT_DATASOURCE_SMILES'])\n",
    "        res = None\n",
    "        for i in range(len(section)):\n",
    "            try:\n",
    "                if section['PUBCHEM_EXT_DATASOURCE_SMILES'].iloc[i] not in list(fails):\n",
    "                    fp = fingerprints.iloc[i]\n",
    "                    values = section.iloc[i][1:].dropna().astype(float)\n",
    "                    mean_value = values.mean()\n",
    "                    num_values = len(values)\n",
    "                    fp['Mean_value'] = mean_value\n",
    "                    fp['Num_values'] = num_values\n",
    "                    if res is None:\n",
    "                        res = fp\n",
    "                    else:\n",
    "                        res = pd.concat([res, fp], axis=1)\n",
    "            except:\n",
    "                print(f'missed on {XX} {i}')\n",
    "\n",
    "        res = res.T\n",
    "        res.to_csv(f'new_data/{name}part{XX}.csv', index=False)\n"
   ]
  },
  {
   "cell_type": "code",
   "execution_count": 31,
   "metadata": {},
   "outputs": [],
   "source": [
    "def make_double_data(f1, f2, name):\n",
    "    folder_name = name.split('/')[0]\n",
    "    os.mkdir('new_data/'+folder_name)\n",
    "    \n",
    "    # Merge dataframes based on 'PUBCHEM_EXT_DATASOURCE_SMILES' column\n",
    "    merged_data = pd.merge(f1, f2, on='PUBCHEM_EXT_DATASOURCE_SMILES', how='inner')\n",
    "    # Get values that don't share a column\n",
    "    not_in_merged = pd.concat([f1,f2]).drop_duplicates(subset='PUBCHEM_EXT_DATASOURCE_SMILES', keep=False)\n",
    "\n",
    "    split_and_save(merged_data, 10, name+'good_')\n",
    "    split_and_save(not_in_merged, 500, name+'regular_')"
   ]
  },
  {
   "cell_type": "code",
   "execution_count": 1,
   "metadata": {},
   "outputs": [],
   "source": [
    "def get_noise_est(f1, f2):\n",
    "    # Merge dataframes based on 'PUBCHEM_EXT_DATASOURCE_SMILES' column\n",
    "    merged_data = pd.merge(f1, f2, on='PUBCHEM_EXT_DATASOURCE_SMILES', how='inner')\n",
    "    # for each row get the variance of all columns but the first\n",
    "    return len(merged_data)/max(len(f1), len(f2))"
   ]
  },
  {
   "cell_type": "code",
   "execution_count": 15,
   "metadata": {},
   "outputs": [
    {
     "data": {
      "text/plain": [
       "(0.008771953580955734, 0.2506997387890302)"
      ]
     },
     "execution_count": 15,
     "metadata": {},
     "output_type": "execute_result"
    }
   ],
   "source": [
    "data1 = pd.read_csv('raw/AID_652039_datatable.csv', low_memory=False)\n",
    "data1.drop([0,1,2,3], inplace=True)\n",
    "new_data = data1[['PUBCHEM_EXT_DATASOURCE_SMILES', 'Inhibition at 7 uM']]\n",
    "\n",
    "data2 = pd.read_csv('raw/AID_686949_datatable.csv', low_memory=False)\n",
    "data2.drop([0,1,2,3], inplace=True)\n",
    "new_data2 = data2[['PUBCHEM_EXT_DATASOURCE_SMILES', 'Activation at 7 uM [1]', 'Activation at 7 uM [2]', 'Activation at 7 uM [3]']]\n",
    "\n",
    "name = '652039/652039_and_686949_'\n",
    "\n",
    "#make_double_data(new_data, new_data2, name)\n",
    "get_noise_est(new_data, new_data2)\n"
   ]
  },
  {
   "cell_type": "code",
   "execution_count": 16,
   "metadata": {},
   "outputs": [
    {
     "data": {
      "text/plain": [
       "(0.0006346617118041677, 0.46185287213095794)"
      ]
     },
     "execution_count": 16,
     "metadata": {},
     "output_type": "execute_result"
    }
   ],
   "source": [
    "data1 = pd.read_csv('raw/AID_720582_datatable.csv', low_memory=False)\n",
    "data1.drop([0,1,2,3], inplace=True)\n",
    "new_data = data1[['PUBCHEM_EXT_DATASOURCE_SMILES', 'Inhibition at 7.0 uM']]\n",
    "\n",
    "\n",
    "data2 = pd.read_csv('raw/AID_743254_datatable.csv', low_memory=False)\n",
    "data2.drop([0,1,2,3,4], inplace=True)\n",
    "new_data2 = data2[['PUBCHEM_EXT_DATASOURCE_SMILES', 'Inhibition at 7.7 uM [1]', 'Inhibition at 7.7 uM [2]', 'Inhibition at 7.7 uM [3]']]\n",
    "\n",
    "# Merge dataframes based on 'PUBCHEM_EXT_DATASOURCE_SMILES' column\n",
    "#merged_data = pd.merge(new_data, new_data2, on='PUBCHEM_EXT_DATASOURCE_SMILES', how='inner')\n",
    "# Get values that don't share a column\n",
    "#not_in_merged = pd.concat([new_data, new_data2]).drop_duplicates(subset='PUBCHEM_EXT_DATASOURCE_SMILES', keep=False)\n",
    "\n",
    "name = '720582/720582_and_743254_'\n",
    "#split_and_save(merged_data, 10, name+'good_')\n",
    "#split_and_save(not_in_merged, 500, name+'regular_')\n",
    "\n",
    "#merged_data = pd.merge(new_data, new_data2, on='PUBCHEM_EXT_DATASOURCE_SMILES', how='outer')\n",
    "# shuffled dataframe\n",
    "#shuffled_data = merged_data.sample(frac=1)\n",
    "#split_and_save(shuffled_data, 500, name)\n",
    "\n",
    "#make_double_data(new_data, new_data2, name)\n",
    "get_noise_est(new_data, new_data2)"
   ]
  },
  {
   "cell_type": "code",
   "execution_count": 17,
   "metadata": {},
   "outputs": [
    {
     "data": {
      "text/plain": [
       "(0.008825848826280937, 1.9752556824463614)"
      ]
     },
     "execution_count": 17,
     "metadata": {},
     "output_type": "execute_result"
    }
   ],
   "source": [
    "data1 = pd.read_csv('raw/AID_720704_datatable.csv', low_memory=False)\n",
    "data1.drop([0,1,2,3], inplace=True)\n",
    "new_data = data1[['PUBCHEM_EXT_DATASOURCE_SMILES', 'Inhibition at 12.2 uM']]\n",
    "\n",
    "data2 = pd.read_csv('raw/AID_743261_datatable.csv', low_memory=False)\n",
    "data2.drop([0,1,2,3], inplace=True)\n",
    "new_data2 =data2[['PUBCHEM_EXT_DATASOURCE_SMILES', 'Inhibition at 12.3 uM [1]', 'Inhibition at 12.3 uM [2]', 'Inhibition at 12.3 uM [3]']]\n",
    "\n",
    "# Merge dataframes based on 'PUBCHEM_EXT_DATASOURCE_SMILES' column\n",
    "#merged_data = pd.merge(new_data, new_data2, on='PUBCHEM_EXT_DATASOURCE_SMILES', how='inner')\n",
    "# Get values that don't share a column\n",
    "#not_in_merged = pd.concat([new_data, new_data2]).drop_duplicates(subset='PUBCHEM_EXT_DATASOURCE_SMILES', keep=False)\n",
    "\n",
    "name = '720704/720704_and_743261_'\n",
    "\n",
    "#make_double_data(new_data, new_data2, name)\n",
    "get_noise_est(new_data, new_data2)"
   ]
  },
  {
   "cell_type": "code",
   "execution_count": 18,
   "metadata": {},
   "outputs": [
    {
     "data": {
      "text/plain": [
       "(0.007215578610209164, 1.4272904122983125)"
      ]
     },
     "execution_count": 18,
     "metadata": {},
     "output_type": "execute_result"
    }
   ],
   "source": [
    "data1 = pd.read_csv('raw/AID_540281_datatable.csv', low_memory=False)\n",
    "data1.drop([0,1,2,3], inplace=True)\n",
    "new_data = data1[['PUBCHEM_EXT_DATASOURCE_SMILES', '%Inhibition at 20 uM']]\n",
    "\n",
    "data2 = pd.read_csv('raw/AID_493091_datatable.csv', low_memory=False)\n",
    "data2.drop([0,1,2,3], inplace=True)\n",
    "new_data2 =data2[['PUBCHEM_EXT_DATASOURCE_SMILES', '%Inhibition at 20 uM']]\n",
    "\n",
    "name = 'scp1/scp1_'\n",
    "\n",
    "#make_double_data(new_data, new_data2, name)\n",
    "get_noise_est(new_data, new_data2)"
   ]
  },
  {
   "cell_type": "code",
   "execution_count": 26,
   "metadata": {},
   "outputs": [
    {
     "data": {
      "text/plain": [
       "(0.007304465973534972, 1.1039386486456777)"
      ]
     },
     "execution_count": 26,
     "metadata": {},
     "output_type": "execute_result"
    }
   ],
   "source": [
    "data1 = pd.read_csv('raw/AID_602428_datatable.csv', low_memory=False)\n",
    "data1.drop([0,1,2,3], inplace=True)\n",
    "new_data = data1[['PUBCHEM_EXT_DATASOURCE_SMILES', '%Activity at 5 uM_1','%Activity at 5 uM_2','%Activity at 5 uM_3']]\n",
    "\n",
    "data2 = pd.read_csv('raw/AID_588413_datatable.csv', low_memory=False)\n",
    "data2.drop([0,1,2,3], inplace=True)\n",
    "new_data2 =data2[['PUBCHEM_EXT_DATASOURCE_SMILES', '%Activity at 5 uM']]\n",
    "\n",
    "name = 'gli_sufu/gli_sufu_'\n",
    "\n",
    "#make_double_data(new_data, new_data2, name)\n",
    "get_noise_est(new_data, new_data2)"
   ]
  },
  {
   "cell_type": "code",
   "execution_count": 37,
   "metadata": {},
   "outputs": [
    {
     "data": {
      "text/plain": [
       "\"\\ndata1 = pd.read_csv('new_data/raw/AID_504383_datatable.csv', low_memory=False)\\ndata1.drop([0,1,2,3], inplace=True)\\nnew_data = data1[['PUBCHEM_EXT_DATASOURCE_SMILES', 'Activation at 7.2 uM']]\\n\\ndata2 = pd.read_csv('new_data/raw/AID_493008_datatable.csv', low_memory=False)\\ndata2.drop([0,1,2,3], inplace=True)\\nnew_data2 =data2[['PUBCHEM_EXT_DATASOURCE_SMILES', 'Activation at 7.2 uM']]\\n\\nname = 'rtf/rtf_'\\n\\nmake_double_data(new_data, new_data2, name)\\n\""
      ]
     },
     "execution_count": 37,
     "metadata": {},
     "output_type": "execute_result"
    }
   ],
   "source": [
    "\"\"\"\n",
    "data1 = pd.read_csv('new_data/raw/AID_504383_datatable.csv', low_memory=False)\n",
    "data1.drop([0,1,2,3], inplace=True)\n",
    "new_data = data1[['PUBCHEM_EXT_DATASOURCE_SMILES', 'Activation at 7.2 uM']]\n",
    "\n",
    "data2 = pd.read_csv('new_data/raw/AID_493008_datatable.csv', low_memory=False)\n",
    "data2.drop([0,1,2,3], inplace=True)\n",
    "new_data2 =data2[['PUBCHEM_EXT_DATASOURCE_SMILES', 'Activation at 7.2 uM']]\n",
    "\n",
    "name = 'rtf/rtf_'\n",
    "\n",
    "make_double_data(new_data, new_data2, name)\n",
    "\"\"\""
   ]
  },
  {
   "cell_type": "code",
   "execution_count": 27,
   "metadata": {},
   "outputs": [
    {
     "data": {
      "text/plain": [
       "(0.006630345819657901, 0.34419904397697654)"
      ]
     },
     "execution_count": 27,
     "metadata": {},
     "output_type": "execute_result"
    }
   ],
   "source": [
    "data1 = pd.read_csv('raw/AID_651783_datatable.csv', low_memory=False)\n",
    "data1.drop([0,1,2,3], inplace=True)\n",
    "new_data = data1[['PUBCHEM_EXT_DATASOURCE_SMILES', 'Activation at 3 uM [1]','Activation at 3 uM [2]','Activation at 3 uM [3]']]\n",
    "\n",
    "data2 = pd.read_csv('raw/AID_624467_datatable.csv', low_memory=False)\n",
    "data2.drop([0,1,2,3], inplace=True)\n",
    "new_data2 =data2[['PUBCHEM_EXT_DATASOURCE_SMILES', 'Activation at 3 uM']]\n",
    "\n",
    "name = 'TARR1/TARR1_'\n",
    "\n",
    "#make_double_data(new_data, new_data2, name)\n",
    "get_noise_est(new_data, new_data2)"
   ]
  },
  {
   "cell_type": "code",
   "execution_count": 28,
   "metadata": {},
   "outputs": [
    {
     "data": {
      "text/plain": [
       "(0.006933625074462723, 0.3744111388714163)"
      ]
     },
     "execution_count": 28,
     "metadata": {},
     "output_type": "execute_result"
    }
   ],
   "source": [
    "data1 = pd.read_csv('raw/AID_588473_datatable.csv', low_memory=False)\n",
    "data1.drop([0,1,2,3], inplace=True)\n",
    "new_data = data1[['PUBCHEM_EXT_DATASOURCE_SMILES', '%Activity at 13.25 uM']]\n",
    "\n",
    "data2 = pd.read_csv('raw/AID_602473_datatable.csv', low_memory=False)\n",
    "data2.drop([0,1,2,3], inplace=True)\n",
    "new_data2 =data2[['PUBCHEM_EXT_DATASOURCE_SMILES', '% Activity at 13.25 uM_first_point', '% Activity at 13.25 uM_second_point','% Activity at 13.25 uM_third_point', '% Activity at 13.25 uM_fourth_point']]\n",
    "\n",
    "name = 'CRF-R2/CRF-R2_'\n",
    "\n",
    "#make_double_data(new_data, new_data2, name)\n",
    "get_noise_est(new_data, new_data2)"
   ]
  },
  {
   "cell_type": "code",
   "execution_count": 29,
   "metadata": {},
   "outputs": [
    {
     "data": {
      "text/plain": [
       "(0.007225877225668558, 0.17265084974216424)"
      ]
     },
     "execution_count": 29,
     "metadata": {},
     "output_type": "execute_result"
    }
   ],
   "source": [
    "data1 = pd.read_csv('raw/AID_493034_datatable.csv', low_memory=False)\n",
    "data1.drop([0,1,2,3], inplace=True)\n",
    "new_data = data1[['PUBCHEM_EXT_DATASOURCE_SMILES', 'Inhibition at 3.39 uM']]\n",
    "\n",
    "data2 = pd.read_csv('raw/AID_492953_datatable.csv', low_memory=False)\n",
    "data2.drop([0,1,2,3], inplace=True)\n",
    "new_data2 =data2[['PUBCHEM_EXT_DATASOURCE_SMILES', 'Inhibition at 3.39 uM']]\n",
    "\n",
    "name = 'PAFAH1B2/PAFAH1B2_'\n",
    "\n",
    "#make_double_data(new_data, new_data2, name)\n",
    "get_noise_est(new_data, new_data2)"
   ]
  },
  {
   "cell_type": "code",
   "execution_count": 30,
   "metadata": {},
   "outputs": [
    {
     "data": {
      "text/plain": [
       "(0.007010951748155615, 0.8083632360326435)"
      ]
     },
     "execution_count": 30,
     "metadata": {},
     "output_type": "execute_result"
    }
   ],
   "source": [
    "data1 = pd.read_csv('raw/AID_504690_datatable.csv', low_memory=False)\n",
    "data1.drop([0,1,2,3], inplace=True)\n",
    "new_data = data1[['PUBCHEM_EXT_DATASOURCE_SMILES', '%Activity at 20 uM']]\n",
    "\n",
    "data2 = pd.read_csv('raw/AID_504753_datatable.csv', low_memory=False)\n",
    "data2.drop([0,1,2,3], inplace=True)\n",
    "new_data2 =data2[['PUBCHEM_EXT_DATASOURCE_SMILES', '%Activity at 20 uM_1', '%Activity at 20 uM_2', '%Activity at 20 uM_3']]\n",
    "\n",
    "name = 'PFG/PFG_'\n",
    "\n",
    "#make_double_data(new_data, new_data2, name)\n",
    "get_noise_est(new_data, new_data2)"
   ]
  },
  {
   "cell_type": "code",
   "execution_count": 31,
   "metadata": {},
   "outputs": [
    {
     "data": {
      "text/plain": [
       "(0.006755124008699281, 0.6593460841531141)"
      ]
     },
     "execution_count": 31,
     "metadata": {},
     "output_type": "execute_result"
    }
   ],
   "source": [
    "data1 = pd.read_csv('raw/AID_651636_datatable.csv', low_memory=False)\n",
    "data1.drop([0,1,2,3], inplace=True)\n",
    "new_data = data1[['PUBCHEM_EXT_DATASOURCE_SMILES', '%Activity_Normalized at 5 uM']]\n",
    "\n",
    "data2 = pd.read_csv('raw/AID_651997_datatable.csv', low_memory=False)\n",
    "data2.drop([0,1,2,3], inplace=True)\n",
    "new_data2 =data2[['PUBCHEM_EXT_DATASOURCE_SMILES', '%Activity at 5 uM_1','%Activity at 5 uM_2','%Activity at 5 uM_3']]\n",
    "\n",
    "name = 'EBI2/EBI2_'\n",
    "\n",
    "#make_double_data(new_data, new_data2, name)\n",
    "get_noise_est(new_data, new_data2)"
   ]
  },
  {
   "cell_type": "code",
   "execution_count": 32,
   "metadata": {},
   "outputs": [
    {
     "data": {
      "text/plain": [
       "(0.006624328020690869, 0.6007273938346401)"
      ]
     },
     "execution_count": 32,
     "metadata": {},
     "output_type": "execute_result"
    }
   ],
   "source": [
    "data1 = pd.read_csv('raw/AID_652134_datatable.csv', low_memory=False)\n",
    "data1.drop([0,1,2,3], inplace=True)\n",
    "new_data = data1[['PUBCHEM_EXT_DATASOURCE_SMILES', 'Inhibition at 6.8 uM [1]','Inhibition at 6.8 uM [2]','Inhibition at 6.8 uM [3]']]\n",
    "\n",
    "data2 = pd.read_csv('raw/AID_652010_datatable.csv', low_memory=False)\n",
    "data2.drop([0,1,2,3], inplace=True)\n",
    "new_data2 =data2[['PUBCHEM_EXT_DATASOURCE_SMILES', 'Inhibition at 6.8 uM']]\n",
    "\n",
    "name = 'DAX1/DAX1'\n",
    "\n",
    "#make_double_data(new_data, new_data2, name)\n",
    "get_noise_est(new_data, new_data2)"
   ]
  }
 ],
 "metadata": {
  "kernelspec": {
   "display_name": "Python 3.10.4 ('my-rdkit-env')",
   "language": "python",
   "name": "python3"
  },
  "language_info": {
   "codemirror_mode": {
    "name": "ipython",
    "version": 3
   },
   "file_extension": ".py",
   "mimetype": "text/x-python",
   "name": "python",
   "nbconvert_exporter": "python",
   "pygments_lexer": "ipython3",
   "version": "3.10.4"
  },
  "orig_nbformat": 4,
  "vscode": {
   "interpreter": {
    "hash": "56e71013d62bd9cc5d0c6a1e36349d30e9a57c73d24db113a72e421aa5cfafbb"
   }
  }
 },
 "nbformat": 4,
 "nbformat_minor": 2
}
